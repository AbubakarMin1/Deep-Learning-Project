{
  "nbformat": 4,
  "nbformat_minor": 0,
  "metadata": {
    "colab": {
      "provenance": [],
      "gpuType": "T4"
    },
    "kernelspec": {
      "name": "python3",
      "display_name": "Python 3"
    },
    "language_info": {
      "name": "python"
    },
    "accelerator": "GPU"
  },
  "cells": [
    {
      "cell_type": "markdown",
      "source": [
        "Training the Megadetector on the COD10K Dataset: This notebook was able to complete the training process but opun seeing the results we realised that we made quite a few mistakes in the dataset preparation, which is why the results were not ideal."
      ],
      "metadata": {
        "id": "9R3G5JlBl0hX"
      }
    },
    {
      "cell_type": "code",
      "execution_count": null,
      "metadata": {
        "colab": {
          "base_uri": "https://localhost:8080/"
        },
        "id": "LvGr5fuskSRf",
        "outputId": "df24f7fd-f431-45a0-9a82-10192b065280"
      },
      "outputs": [
        {
          "output_type": "stream",
          "name": "stdout",
          "text": [
            "Mounted at /content/drive\n"
          ]
        }
      ],
      "source": [
        "from google.colab import drive\n",
        "drive.mount('/content/drive')"
      ]
    },
    {
      "cell_type": "code",
      "source": [
        "%cd /content/drive/MyDrive/dataset"
      ],
      "metadata": {
        "colab": {
          "base_uri": "https://localhost:8080/"
        },
        "id": "3fIbUSpaC7mu",
        "outputId": "2de0ec4a-eb62-4fda-f969-00fb5e02daef"
      },
      "execution_count": null,
      "outputs": [
        {
          "output_type": "stream",
          "name": "stdout",
          "text": [
            "/content/drive/MyDrive/dataset\n"
          ]
        }
      ]
    },
    {
      "cell_type": "code",
      "source": [
        "!git clone https://github.com/microsoft/CameraTraps.git"
      ],
      "metadata": {
        "colab": {
          "base_uri": "https://localhost:8080/"
        },
        "id": "_NueWTmYOVLY",
        "outputId": "3af4eb8d-203f-489d-9dea-84be4ec36c76"
      },
      "execution_count": null,
      "outputs": [
        {
          "output_type": "stream",
          "name": "stdout",
          "text": [
            "Cloning into 'CameraTraps'...\n",
            "remote: Enumerating objects: 19526, done.\u001b[K\n",
            "remote: Counting objects: 100% (342/342), done.\u001b[K\n",
            "remote: Compressing objects: 100% (220/220), done.\u001b[K\n",
            "remote: Total 19526 (delta 137), reused 131 (delta 122), pack-reused 19184 (from 4)\u001b[K\n",
            "Receiving objects: 100% (19526/19526), 496.77 MiB | 16.60 MiB/s, done.\n",
            "Resolving deltas: 100% (10190/10190), done.\n",
            "Updating files: 100% (166/166), done.\n"
          ]
        }
      ]
    },
    {
      "cell_type": "code",
      "source": [
        "%cd CameraTraps/PW_FT_detection"
      ],
      "metadata": {
        "colab": {
          "base_uri": "https://localhost:8080/"
        },
        "id": "KSptjI1jOdCQ",
        "outputId": "beca9748-31fd-4a49-c288-8a53e7bab0ac"
      },
      "execution_count": null,
      "outputs": [
        {
          "output_type": "stream",
          "name": "stdout",
          "text": [
            "/content/drive/MyDrive/dataset/CameraTraps/PW_FT_detection\n"
          ]
        }
      ]
    },
    {
      "cell_type": "code",
      "source": [
        "import os, shutil, json\n",
        "from PIL import Image\n",
        "\n",
        "# --- Adjust this to where your COD10K folder lives ---\n",
        "BASE = '/content/drive/MyDrive/dataset/cod10k/COD10K-v3'\n",
        "\n",
        "# Raw COCO JSONs & images\n",
        "TRAIN_JSON = os.path.join(BASE, 'Train/CAM_Instance_Train.json')\n",
        "TEST_JSON  = os.path.join(BASE, 'Test/CAM_Instance_Test.json')\n",
        "TRAIN_IMG  = os.path.join(BASE, 'Train/Image')\n",
        "TEST_IMG   = os.path.join(BASE, 'Test/Image')\n",
        "\n",
        "# Where YOLO expects data\n",
        "YOLO_ROOT = '/content/drive/MyDrive/dataset/CameraTraps/PW_FT_detection/data/COD10K'\n",
        "for sub in ('images/train','labels/train','images/test','labels/test'):\n",
        "    os.makedirs(os.path.join(YOLO_ROOT, sub), exist_ok=True)\n"
      ],
      "metadata": {
        "id": "LJ0aZHW0O68o"
      },
      "execution_count": null,
      "outputs": []
    },
    {
      "cell_type": "code",
      "source": [
        "!ls /content/drive/MyDrive/dataset/cod10k/COD10K-v3/Train"
      ],
      "metadata": {
        "colab": {
          "base_uri": "https://localhost:8080/"
        },
        "id": "wSVoB-13Q30f",
        "outputId": "26176c08-a03b-4ead-fc4b-747f3512c9cd"
      },
      "execution_count": null,
      "outputs": [
        {
          "output_type": "stream",
          "name": "stdout",
          "text": [
            "CAM_Instance_Train.json        GT_Edge\t    GT_Object\n",
            "CAM-NonCAM_Instance_Train.txt  GT_Instance  Image\n"
          ]
        }
      ]
    },
    {
      "cell_type": "code",
      "source": [
        "# 1) Copy all training .jpgs\n",
        "for fn in os.listdir(TRAIN_IMG):\n",
        "    if fn.lower().endswith('.jpg'):\n",
        "        shutil.copy(os.path.join(TRAIN_IMG,fn),\n",
        "                    os.path.join(YOLO_ROOT,'images/train',fn))\n",
        "\n",
        "# 2) Load COCO JSON\n",
        "with open(TRAIN_JSON) as f:\n",
        "    coco = json.load(f)\n",
        "\n",
        "# 3) Build lookup and group bboxes\n",
        "img_meta  = {img['id']:(img['file_name'],img['width'],img['height']) for img in coco['images']}\n",
        "ann_by_id = {}\n",
        "for ann in coco['annotations']:\n",
        "    ann_by_id.setdefault(ann['image_id'],[]).append(ann['bbox'])\n",
        "\n",
        "# 4) Write YOLO .txt labels\n",
        "for img_id, bbs in ann_by_id.items():\n",
        "    fn, W, H = img_meta[img_id]\n",
        "    lines = []\n",
        "    for x,y,w,h in bbs:\n",
        "        xc = (x + w/2)/W; yc = (y + h/2)/H\n",
        "        wn = w/W;      hn = h/H\n",
        "        lines.append(f\"0 {xc:.6f} {yc:.6f} {wn:.6f} {hn:.6f}\")\n",
        "    out = os.path.join(YOLO_ROOT,'labels/train',fn.replace('.jpg','.txt'))\n",
        "    with open(out,'w') as f: f.write(\"\\n\".join(lines))\n"
      ],
      "metadata": {
        "id": "KmSeMciyPtkC"
      },
      "execution_count": null,
      "outputs": []
    },
    {
      "cell_type": "code",
      "source": [
        "# 1) Copy all test .jpgs\n",
        "for fn in os.listdir(TEST_IMG):\n",
        "    if fn.lower().endswith('.jpg'):\n",
        "        shutil.copy(os.path.join(TEST_IMG,fn),\n",
        "                    os.path.join(YOLO_ROOT,'images/test',fn))\n",
        "\n",
        "# 2) Load COCO JSON\n",
        "with open(TEST_JSON) as f:\n",
        "    coco = json.load(f)\n",
        "\n",
        "# 3) Build lookup\n",
        "img_meta  = {img['id']:(img['file_name'],img['width'],img['height']) for img in coco['images']}\n",
        "ann_by_id = {}\n",
        "for ann in coco['annotations']:\n",
        "    ann_by_id.setdefault(ann['image_id'],[]).append(ann['bbox'])\n",
        "\n",
        "# 4) Write YOLO .txt labels\n",
        "for img_id, bbs in ann_by_id.items():\n",
        "    fn, W, H = img_meta[img_id]\n",
        "    lines = []\n",
        "    for x,y,w,h in bbs:\n",
        "        xc = (x + w/2)/W; yc = (y + h/2)/H\n",
        "        wn = w/W;      hn = h/H\n",
        "        lines.append(f\"0 {xc:.6f} {yc:.6f} {wn:.6f} {hn:.6f}\")\n",
        "    out = os.path.join(YOLO_ROOT,'labels/test',fn.replace('.jpg','.txt'))\n",
        "    with open(out,'w') as f: f.write(\"\\n\".join(lines))\n"
      ],
      "metadata": {
        "id": "Pm144kL-Pv8q"
      },
      "execution_count": null,
      "outputs": []
    },
    {
      "cell_type": "code",
      "source": [
        "%%bash\n",
        "cat > /content/drive/MyDrive/dataset/CameraTraps/PW_FT_detection/data/COD10K.yaml <<EOF\n",
        "path: ../data/COD10K\n",
        "train: images/train\n",
        "val:   images/test\n",
        "test:  images/test\n",
        "names: ['foreground']\n",
        "EOF\n",
        "\n",
        "echo \"Wrote data/COD10K.yaml:\"\n",
        "cat /content/drive/MyDrive/dataset/CameraTraps/PW_FT_detection/data/COD10K.yaml\n"
      ],
      "metadata": {
        "colab": {
          "base_uri": "https://localhost:8080/"
        },
        "id": "LsYmXHZLUZWe",
        "outputId": "c3b303bc-a71f-452b-fc47-e5b1139d0252"
      },
      "execution_count": null,
      "outputs": [
        {
          "output_type": "stream",
          "name": "stdout",
          "text": [
            "Wrote data/COD10K.yaml:\n",
            "path: ../data/COD10K\n",
            "train: images/train\n",
            "val:   images/test\n",
            "test:  images/test\n",
            "names: ['foreground']\n"
          ]
        }
      ]
    },
    {
      "cell_type": "code",
      "source": [
        "%%bash\n",
        "# move into your PW_FT_detection folder\n",
        "cd /content/drive/MyDrive/dataset/CameraTraps/PW_FT_detection\n",
        "pip install -r requirements.txt"
      ],
      "metadata": {
        "colab": {
          "base_uri": "https://localhost:8080/"
        },
        "id": "Pl2WDNi3Yxdl",
        "outputId": "82d82f5e-bac3-49cf-e48f-1b1ab8f7d5d1"
      },
      "execution_count": null,
      "outputs": [
        {
          "output_type": "stream",
          "name": "stdout",
          "text": [
            "Collecting PytorchWildlife (from -r requirements.txt (line 1))\n",
            "  Downloading pytorchwildlife-1.2.2.tar.gz (72 kB)\n",
            "     ━━━━━━━━━━━━━━━━━━━━━━━━━━━━━━━━━━━━━━━━ 72.1/72.1 kB 7.1 MB/s eta 0:00:00\n",
            "  Preparing metadata (setup.py): started\n",
            "  Preparing metadata (setup.py): finished with status 'done'\n",
            "Collecting ultralytics (from -r requirements.txt (line 2))\n",
            "  Downloading ultralytics-8.3.119-py3-none-any.whl.metadata (37 kB)\n",
            "Collecting munch (from -r requirements.txt (line 3))\n",
            "  Downloading munch-4.0.0-py2.py3-none-any.whl.metadata (5.9 kB)\n",
            "Collecting wget (from -r requirements.txt (line 4))\n",
            "  Downloading wget-3.2.zip (10 kB)\n",
            "  Preparing metadata (setup.py): started\n",
            "  Preparing metadata (setup.py): finished with status 'done'\n",
            "Requirement already satisfied: torch in /usr/local/lib/python3.11/dist-packages (from PytorchWildlife->-r requirements.txt (line 1)) (2.6.0+cu124)\n",
            "Requirement already satisfied: torchvision in /usr/local/lib/python3.11/dist-packages (from PytorchWildlife->-r requirements.txt (line 1)) (0.21.0+cu124)\n",
            "Requirement already satisfied: torchaudio in /usr/local/lib/python3.11/dist-packages (from PytorchWildlife->-r requirements.txt (line 1)) (2.6.0+cu124)\n",
            "Requirement already satisfied: tqdm in /usr/local/lib/python3.11/dist-packages (from PytorchWildlife->-r requirements.txt (line 1)) (4.67.1)\n",
            "Requirement already satisfied: Pillow in /usr/local/lib/python3.11/dist-packages (from PytorchWildlife->-r requirements.txt (line 1)) (11.2.1)\n",
            "Collecting supervision==0.23.0 (from PytorchWildlife->-r requirements.txt (line 1))\n",
            "  Downloading supervision-0.23.0-py3-none-any.whl.metadata (14 kB)\n",
            "Collecting gradio (from PytorchWildlife->-r requirements.txt (line 1))\n",
            "  Downloading gradio-5.27.1-py3-none-any.whl.metadata (16 kB)\n",
            "Requirement already satisfied: chardet in /usr/local/lib/python3.11/dist-packages (from PytorchWildlife->-r requirements.txt (line 1)) (5.2.0)\n",
            "Collecting yolov5 (from PytorchWildlife->-r requirements.txt (line 1))\n",
            "  Downloading yolov5-7.0.14-py37.py38.py39.py310-none-any.whl.metadata (10 kB)\n",
            "Requirement already satisfied: setuptools in /usr/local/lib/python3.11/dist-packages (from PytorchWildlife->-r requirements.txt (line 1)) (75.2.0)\n",
            "Requirement already satisfied: scikit-learn in /usr/local/lib/python3.11/dist-packages (from PytorchWildlife->-r requirements.txt (line 1)) (1.6.1)\n",
            "Requirement already satisfied: timm in /usr/local/lib/python3.11/dist-packages (from PytorchWildlife->-r requirements.txt (line 1)) (1.0.15)\n",
            "Requirement already satisfied: defusedxml<0.8.0,>=0.7.1 in /usr/local/lib/python3.11/dist-packages (from supervision==0.23.0->PytorchWildlife->-r requirements.txt (line 1)) (0.7.1)\n",
            "Requirement already satisfied: matplotlib>=3.6.0 in /usr/local/lib/python3.11/dist-packages (from supervision==0.23.0->PytorchWildlife->-r requirements.txt (line 1)) (3.10.0)\n",
            "Requirement already satisfied: numpy>=1.23.3 in /usr/local/lib/python3.11/dist-packages (from supervision==0.23.0->PytorchWildlife->-r requirements.txt (line 1)) (2.0.2)\n",
            "Requirement already satisfied: opencv-python-headless>=4.5.5.64 in /usr/local/lib/python3.11/dist-packages (from supervision==0.23.0->PytorchWildlife->-r requirements.txt (line 1)) (4.11.0.86)\n",
            "Requirement already satisfied: pyyaml>=5.3 in /usr/local/lib/python3.11/dist-packages (from supervision==0.23.0->PytorchWildlife->-r requirements.txt (line 1)) (6.0.2)\n",
            "Requirement already satisfied: scipy<2.0.0,>=1.10.0 in /usr/local/lib/python3.11/dist-packages (from supervision==0.23.0->PytorchWildlife->-r requirements.txt (line 1)) (1.15.2)\n",
            "Requirement already satisfied: opencv-python>=4.6.0 in /usr/local/lib/python3.11/dist-packages (from ultralytics->-r requirements.txt (line 2)) (4.11.0.86)\n",
            "Requirement already satisfied: requests>=2.23.0 in /usr/local/lib/python3.11/dist-packages (from ultralytics->-r requirements.txt (line 2)) (2.32.3)\n",
            "Requirement already satisfied: psutil in /usr/local/lib/python3.11/dist-packages (from ultralytics->-r requirements.txt (line 2)) (5.9.5)\n",
            "Requirement already satisfied: py-cpuinfo in /usr/local/lib/python3.11/dist-packages (from ultralytics->-r requirements.txt (line 2)) (9.0.0)\n",
            "Requirement already satisfied: pandas>=1.1.4 in /usr/local/lib/python3.11/dist-packages (from ultralytics->-r requirements.txt (line 2)) (2.2.2)\n",
            "Requirement already satisfied: seaborn>=0.11.0 in /usr/local/lib/python3.11/dist-packages (from ultralytics->-r requirements.txt (line 2)) (0.13.2)\n",
            "Collecting ultralytics-thop>=2.0.0 (from ultralytics->-r requirements.txt (line 2))\n",
            "  Downloading ultralytics_thop-2.0.14-py3-none-any.whl.metadata (9.4 kB)\n",
            "Requirement already satisfied: contourpy>=1.0.1 in /usr/local/lib/python3.11/dist-packages (from matplotlib>=3.6.0->supervision==0.23.0->PytorchWildlife->-r requirements.txt (line 1)) (1.3.2)\n",
            "Requirement already satisfied: cycler>=0.10 in /usr/local/lib/python3.11/dist-packages (from matplotlib>=3.6.0->supervision==0.23.0->PytorchWildlife->-r requirements.txt (line 1)) (0.12.1)\n",
            "Requirement already satisfied: fonttools>=4.22.0 in /usr/local/lib/python3.11/dist-packages (from matplotlib>=3.6.0->supervision==0.23.0->PytorchWildlife->-r requirements.txt (line 1)) (4.57.0)\n",
            "Requirement already satisfied: kiwisolver>=1.3.1 in /usr/local/lib/python3.11/dist-packages (from matplotlib>=3.6.0->supervision==0.23.0->PytorchWildlife->-r requirements.txt (line 1)) (1.4.8)\n",
            "Requirement already satisfied: packaging>=20.0 in /usr/local/lib/python3.11/dist-packages (from matplotlib>=3.6.0->supervision==0.23.0->PytorchWildlife->-r requirements.txt (line 1)) (24.2)\n",
            "Requirement already satisfied: pyparsing>=2.3.1 in /usr/local/lib/python3.11/dist-packages (from matplotlib>=3.6.0->supervision==0.23.0->PytorchWildlife->-r requirements.txt (line 1)) (3.2.3)\n",
            "Requirement already satisfied: python-dateutil>=2.7 in /usr/local/lib/python3.11/dist-packages (from matplotlib>=3.6.0->supervision==0.23.0->PytorchWildlife->-r requirements.txt (line 1)) (2.9.0.post0)\n",
            "Requirement already satisfied: pytz>=2020.1 in /usr/local/lib/python3.11/dist-packages (from pandas>=1.1.4->ultralytics->-r requirements.txt (line 2)) (2025.2)\n",
            "Requirement already satisfied: tzdata>=2022.7 in /usr/local/lib/python3.11/dist-packages (from pandas>=1.1.4->ultralytics->-r requirements.txt (line 2)) (2025.2)\n",
            "Requirement already satisfied: charset-normalizer<4,>=2 in /usr/local/lib/python3.11/dist-packages (from requests>=2.23.0->ultralytics->-r requirements.txt (line 2)) (3.4.1)\n",
            "Requirement already satisfied: idna<4,>=2.5 in /usr/local/lib/python3.11/dist-packages (from requests>=2.23.0->ultralytics->-r requirements.txt (line 2)) (3.10)\n",
            "Requirement already satisfied: urllib3<3,>=1.21.1 in /usr/local/lib/python3.11/dist-packages (from requests>=2.23.0->ultralytics->-r requirements.txt (line 2)) (2.4.0)\n",
            "Requirement already satisfied: certifi>=2017.4.17 in /usr/local/lib/python3.11/dist-packages (from requests>=2.23.0->ultralytics->-r requirements.txt (line 2)) (2025.1.31)\n",
            "Requirement already satisfied: filelock in /usr/local/lib/python3.11/dist-packages (from torch->PytorchWildlife->-r requirements.txt (line 1)) (3.18.0)\n",
            "Requirement already satisfied: typing-extensions>=4.10.0 in /usr/local/lib/python3.11/dist-packages (from torch->PytorchWildlife->-r requirements.txt (line 1)) (4.13.2)\n",
            "Requirement already satisfied: networkx in /usr/local/lib/python3.11/dist-packages (from torch->PytorchWildlife->-r requirements.txt (line 1)) (3.4.2)\n",
            "Requirement already satisfied: jinja2 in /usr/local/lib/python3.11/dist-packages (from torch->PytorchWildlife->-r requirements.txt (line 1)) (3.1.6)\n",
            "Requirement already satisfied: fsspec in /usr/local/lib/python3.11/dist-packages (from torch->PytorchWildlife->-r requirements.txt (line 1)) (2025.3.2)\n",
            "Collecting nvidia-cuda-nvrtc-cu12==12.4.127 (from torch->PytorchWildlife->-r requirements.txt (line 1))\n",
            "  Downloading nvidia_cuda_nvrtc_cu12-12.4.127-py3-none-manylinux2014_x86_64.whl.metadata (1.5 kB)\n",
            "Collecting nvidia-cuda-runtime-cu12==12.4.127 (from torch->PytorchWildlife->-r requirements.txt (line 1))\n",
            "  Downloading nvidia_cuda_runtime_cu12-12.4.127-py3-none-manylinux2014_x86_64.whl.metadata (1.5 kB)\n",
            "Collecting nvidia-cuda-cupti-cu12==12.4.127 (from torch->PytorchWildlife->-r requirements.txt (line 1))\n",
            "  Downloading nvidia_cuda_cupti_cu12-12.4.127-py3-none-manylinux2014_x86_64.whl.metadata (1.6 kB)\n",
            "Collecting nvidia-cudnn-cu12==9.1.0.70 (from torch->PytorchWildlife->-r requirements.txt (line 1))\n",
            "  Downloading nvidia_cudnn_cu12-9.1.0.70-py3-none-manylinux2014_x86_64.whl.metadata (1.6 kB)\n",
            "Collecting nvidia-cublas-cu12==12.4.5.8 (from torch->PytorchWildlife->-r requirements.txt (line 1))\n",
            "  Downloading nvidia_cublas_cu12-12.4.5.8-py3-none-manylinux2014_x86_64.whl.metadata (1.5 kB)\n",
            "Collecting nvidia-cufft-cu12==11.2.1.3 (from torch->PytorchWildlife->-r requirements.txt (line 1))\n",
            "  Downloading nvidia_cufft_cu12-11.2.1.3-py3-none-manylinux2014_x86_64.whl.metadata (1.5 kB)\n",
            "Collecting nvidia-curand-cu12==10.3.5.147 (from torch->PytorchWildlife->-r requirements.txt (line 1))\n",
            "  Downloading nvidia_curand_cu12-10.3.5.147-py3-none-manylinux2014_x86_64.whl.metadata (1.5 kB)\n",
            "Collecting nvidia-cusolver-cu12==11.6.1.9 (from torch->PytorchWildlife->-r requirements.txt (line 1))\n",
            "  Downloading nvidia_cusolver_cu12-11.6.1.9-py3-none-manylinux2014_x86_64.whl.metadata (1.6 kB)\n",
            "Collecting nvidia-cusparse-cu12==12.3.1.170 (from torch->PytorchWildlife->-r requirements.txt (line 1))\n",
            "  Downloading nvidia_cusparse_cu12-12.3.1.170-py3-none-manylinux2014_x86_64.whl.metadata (1.6 kB)\n",
            "Requirement already satisfied: nvidia-cusparselt-cu12==0.6.2 in /usr/local/lib/python3.11/dist-packages (from torch->PytorchWildlife->-r requirements.txt (line 1)) (0.6.2)\n",
            "Requirement already satisfied: nvidia-nccl-cu12==2.21.5 in /usr/local/lib/python3.11/dist-packages (from torch->PytorchWildlife->-r requirements.txt (line 1)) (2.21.5)\n",
            "Requirement already satisfied: nvidia-nvtx-cu12==12.4.127 in /usr/local/lib/python3.11/dist-packages (from torch->PytorchWildlife->-r requirements.txt (line 1)) (12.4.127)\n",
            "Collecting nvidia-nvjitlink-cu12==12.4.127 (from torch->PytorchWildlife->-r requirements.txt (line 1))\n",
            "  Downloading nvidia_nvjitlink_cu12-12.4.127-py3-none-manylinux2014_x86_64.whl.metadata (1.5 kB)\n",
            "Requirement already satisfied: triton==3.2.0 in /usr/local/lib/python3.11/dist-packages (from torch->PytorchWildlife->-r requirements.txt (line 1)) (3.2.0)\n",
            "Requirement already satisfied: sympy==1.13.1 in /usr/local/lib/python3.11/dist-packages (from torch->PytorchWildlife->-r requirements.txt (line 1)) (1.13.1)\n",
            "Requirement already satisfied: mpmath<1.4,>=1.1.0 in /usr/local/lib/python3.11/dist-packages (from sympy==1.13.1->torch->PytorchWildlife->-r requirements.txt (line 1)) (1.3.0)\n",
            "Collecting aiofiles<25.0,>=22.0 (from gradio->PytorchWildlife->-r requirements.txt (line 1))\n",
            "  Downloading aiofiles-24.1.0-py3-none-any.whl.metadata (10 kB)\n",
            "Requirement already satisfied: anyio<5.0,>=3.0 in /usr/local/lib/python3.11/dist-packages (from gradio->PytorchWildlife->-r requirements.txt (line 1)) (4.9.0)\n",
            "Collecting fastapi<1.0,>=0.115.2 (from gradio->PytorchWildlife->-r requirements.txt (line 1))\n",
            "  Downloading fastapi-0.115.12-py3-none-any.whl.metadata (27 kB)\n",
            "Collecting ffmpy (from gradio->PytorchWildlife->-r requirements.txt (line 1))\n",
            "  Downloading ffmpy-0.5.0-py3-none-any.whl.metadata (3.0 kB)\n",
            "Collecting gradio-client==1.9.1 (from gradio->PytorchWildlife->-r requirements.txt (line 1))\n",
            "  Downloading gradio_client-1.9.1-py3-none-any.whl.metadata (7.1 kB)\n",
            "Collecting groovy~=0.1 (from gradio->PytorchWildlife->-r requirements.txt (line 1))\n",
            "  Downloading groovy-0.1.2-py3-none-any.whl.metadata (6.1 kB)\n",
            "Requirement already satisfied: httpx>=0.24.1 in /usr/local/lib/python3.11/dist-packages (from gradio->PytorchWildlife->-r requirements.txt (line 1)) (0.28.1)\n",
            "Requirement already satisfied: huggingface-hub>=0.28.1 in /usr/local/lib/python3.11/dist-packages (from gradio->PytorchWildlife->-r requirements.txt (line 1)) (0.30.2)\n",
            "Requirement already satisfied: markupsafe<4.0,>=2.0 in /usr/local/lib/python3.11/dist-packages (from gradio->PytorchWildlife->-r requirements.txt (line 1)) (3.0.2)\n",
            "Requirement already satisfied: orjson~=3.0 in /usr/local/lib/python3.11/dist-packages (from gradio->PytorchWildlife->-r requirements.txt (line 1)) (3.10.16)\n",
            "Requirement already satisfied: pydantic<2.12,>=2.0 in /usr/local/lib/python3.11/dist-packages (from gradio->PytorchWildlife->-r requirements.txt (line 1)) (2.11.3)\n",
            "Collecting pydub (from gradio->PytorchWildlife->-r requirements.txt (line 1))\n",
            "  Downloading pydub-0.25.1-py2.py3-none-any.whl.metadata (1.4 kB)\n",
            "Collecting python-multipart>=0.0.18 (from gradio->PytorchWildlife->-r requirements.txt (line 1))\n",
            "  Downloading python_multipart-0.0.20-py3-none-any.whl.metadata (1.8 kB)\n",
            "Collecting ruff>=0.9.3 (from gradio->PytorchWildlife->-r requirements.txt (line 1))\n",
            "  Downloading ruff-0.11.7-py3-none-manylinux_2_17_x86_64.manylinux2014_x86_64.whl.metadata (25 kB)\n",
            "Collecting safehttpx<0.2.0,>=0.1.6 (from gradio->PytorchWildlife->-r requirements.txt (line 1))\n",
            "  Downloading safehttpx-0.1.6-py3-none-any.whl.metadata (4.2 kB)\n",
            "Collecting semantic-version~=2.0 (from gradio->PytorchWildlife->-r requirements.txt (line 1))\n",
            "  Downloading semantic_version-2.10.0-py2.py3-none-any.whl.metadata (9.7 kB)\n",
            "Collecting starlette<1.0,>=0.40.0 (from gradio->PytorchWildlife->-r requirements.txt (line 1))\n",
            "  Downloading starlette-0.46.2-py3-none-any.whl.metadata (6.2 kB)\n",
            "Collecting tomlkit<0.14.0,>=0.12.0 (from gradio->PytorchWildlife->-r requirements.txt (line 1))\n",
            "  Downloading tomlkit-0.13.2-py3-none-any.whl.metadata (2.7 kB)\n",
            "Requirement already satisfied: typer<1.0,>=0.12 in /usr/local/lib/python3.11/dist-packages (from gradio->PytorchWildlife->-r requirements.txt (line 1)) (0.15.2)\n",
            "Collecting uvicorn>=0.14.0 (from gradio->PytorchWildlife->-r requirements.txt (line 1))\n",
            "  Downloading uvicorn-0.34.2-py3-none-any.whl.metadata (6.5 kB)\n",
            "Requirement already satisfied: websockets<16.0,>=10.0 in /usr/local/lib/python3.11/dist-packages (from gradio-client==1.9.1->gradio->PytorchWildlife->-r requirements.txt (line 1)) (15.0.1)\n",
            "Requirement already satisfied: joblib>=1.2.0 in /usr/local/lib/python3.11/dist-packages (from scikit-learn->PytorchWildlife->-r requirements.txt (line 1)) (1.4.2)\n",
            "Requirement already satisfied: threadpoolctl>=3.1.0 in /usr/local/lib/python3.11/dist-packages (from scikit-learn->PytorchWildlife->-r requirements.txt (line 1)) (3.6.0)\n",
            "Requirement already satisfied: safetensors in /usr/local/lib/python3.11/dist-packages (from timm->PytorchWildlife->-r requirements.txt (line 1)) (0.5.3)\n",
            "Requirement already satisfied: gitpython>=3.1.30 in /usr/local/lib/python3.11/dist-packages (from yolov5->PytorchWildlife->-r requirements.txt (line 1)) (3.1.44)\n",
            "Collecting thop>=0.1.1 (from yolov5->PytorchWildlife->-r requirements.txt (line 1))\n",
            "  Downloading thop-0.1.1.post2209072238-py3-none-any.whl.metadata (2.7 kB)\n",
            "Requirement already satisfied: tensorboard>=2.4.1 in /usr/local/lib/python3.11/dist-packages (from yolov5->PytorchWildlife->-r requirements.txt (line 1)) (2.18.0)\n",
            "Collecting fire (from yolov5->PytorchWildlife->-r requirements.txt (line 1))\n",
            "  Downloading fire-0.7.0.tar.gz (87 kB)\n",
            "     ━━━━━━━━━━━━━━━━━━━━━━━━━━━━━━━━━━━━━━━━ 87.2/87.2 kB 10.1 MB/s eta 0:00:00\n",
            "  Preparing metadata (setup.py): started\n",
            "  Preparing metadata (setup.py): finished with status 'done'\n",
            "Collecting boto3>=1.19.1 (from yolov5->PytorchWildlife->-r requirements.txt (line 1))\n",
            "  Downloading boto3-1.38.4-py3-none-any.whl.metadata (6.6 kB)\n",
            "Collecting sahi>=0.11.10 (from yolov5->PytorchWildlife->-r requirements.txt (line 1))\n",
            "  Downloading sahi-0.11.22-py3-none-any.whl.metadata (17 kB)\n",
            "INFO: pip is looking at multiple versions of yolov5 to determine which version is compatible with other requirements. This could take a while.\n",
            "Collecting yolov5 (from PytorchWildlife->-r requirements.txt (line 1))\n",
            "  Downloading yolov5-7.0.13-py37.py38.py39.py310-none-any.whl.metadata (10 kB)\n",
            "Collecting roboflow>=0.2.29 (from yolov5->PytorchWildlife->-r requirements.txt (line 1))\n",
            "  Downloading roboflow-1.1.62-py3-none-any.whl.metadata (9.7 kB)\n",
            "Requirement already satisfied: sniffio>=1.1 in /usr/local/lib/python3.11/dist-packages (from anyio<5.0,>=3.0->gradio->PytorchWildlife->-r requirements.txt (line 1)) (1.3.1)\n",
            "Collecting botocore<1.39.0,>=1.38.4 (from boto3>=1.19.1->yolov5->PytorchWildlife->-r requirements.txt (line 1))\n",
            "  Downloading botocore-1.38.4-py3-none-any.whl.metadata (5.7 kB)\n",
            "Collecting jmespath<2.0.0,>=0.7.1 (from boto3>=1.19.1->yolov5->PytorchWildlife->-r requirements.txt (line 1))\n",
            "  Downloading jmespath-1.0.1-py3-none-any.whl.metadata (7.6 kB)\n",
            "Collecting s3transfer<0.13.0,>=0.12.0 (from boto3>=1.19.1->yolov5->PytorchWildlife->-r requirements.txt (line 1))\n",
            "  Downloading s3transfer-0.12.0-py3-none-any.whl.metadata (1.7 kB)\n",
            "Requirement already satisfied: gitdb<5,>=4.0.1 in /usr/local/lib/python3.11/dist-packages (from gitpython>=3.1.30->yolov5->PytorchWildlife->-r requirements.txt (line 1)) (4.0.12)\n",
            "Requirement already satisfied: httpcore==1.* in /usr/local/lib/python3.11/dist-packages (from httpx>=0.24.1->gradio->PytorchWildlife->-r requirements.txt (line 1)) (1.0.9)\n",
            "Requirement already satisfied: h11>=0.16 in /usr/local/lib/python3.11/dist-packages (from httpcore==1.*->httpx>=0.24.1->gradio->PytorchWildlife->-r requirements.txt (line 1)) (0.16.0)\n",
            "Requirement already satisfied: annotated-types>=0.6.0 in /usr/local/lib/python3.11/dist-packages (from pydantic<2.12,>=2.0->gradio->PytorchWildlife->-r requirements.txt (line 1)) (0.7.0)\n",
            "Requirement already satisfied: pydantic-core==2.33.1 in /usr/local/lib/python3.11/dist-packages (from pydantic<2.12,>=2.0->gradio->PytorchWildlife->-r requirements.txt (line 1)) (2.33.1)\n",
            "Requirement already satisfied: typing-inspection>=0.4.0 in /usr/local/lib/python3.11/dist-packages (from pydantic<2.12,>=2.0->gradio->PytorchWildlife->-r requirements.txt (line 1)) (0.4.0)\n",
            "Requirement already satisfied: six>=1.5 in /usr/local/lib/python3.11/dist-packages (from python-dateutil>=2.7->matplotlib>=3.6.0->supervision==0.23.0->PytorchWildlife->-r requirements.txt (line 1)) (1.17.0)\n",
            "Collecting idna<4,>=2.5 (from requests>=2.23.0->ultralytics->-r requirements.txt (line 2))\n",
            "  Downloading idna-3.7-py3-none-any.whl.metadata (9.9 kB)\n",
            "Collecting opencv-python-headless>=4.5.5.64 (from supervision==0.23.0->PytorchWildlife->-r requirements.txt (line 1))\n",
            "  Downloading opencv_python_headless-4.10.0.84-cp37-abi3-manylinux_2_17_x86_64.manylinux2014_x86_64.whl.metadata (20 kB)\n",
            "Collecting pillow-heif>=0.18.0 (from roboflow>=0.2.29->yolov5->PytorchWildlife->-r requirements.txt (line 1))\n",
            "  Downloading pillow_heif-0.22.0-cp311-cp311-manylinux_2_17_x86_64.manylinux2014_x86_64.whl.metadata (9.6 kB)\n",
            "Collecting python-dotenv (from roboflow>=0.2.29->yolov5->PytorchWildlife->-r requirements.txt (line 1))\n",
            "  Downloading python_dotenv-1.1.0-py3-none-any.whl.metadata (24 kB)\n",
            "Requirement already satisfied: requests-toolbelt in /usr/local/lib/python3.11/dist-packages (from roboflow>=0.2.29->yolov5->PytorchWildlife->-r requirements.txt (line 1)) (1.0.0)\n",
            "Collecting filetype (from roboflow>=0.2.29->yolov5->PytorchWildlife->-r requirements.txt (line 1))\n",
            "  Downloading filetype-1.2.0-py2.py3-none-any.whl.metadata (6.5 kB)\n",
            "Requirement already satisfied: click in /usr/local/lib/python3.11/dist-packages (from sahi>=0.11.10->yolov5->PytorchWildlife->-r requirements.txt (line 1)) (8.1.8)\n",
            "Collecting opencv-python>=4.6.0 (from ultralytics->-r requirements.txt (line 2))\n",
            "  Downloading opencv_python-4.10.0.84-cp37-abi3-manylinux_2_17_x86_64.manylinux2014_x86_64.whl.metadata (20 kB)\n",
            "Collecting pybboxes==0.1.6 (from sahi>=0.11.10->yolov5->PytorchWildlife->-r requirements.txt (line 1))\n",
            "  Downloading pybboxes-0.1.6-py3-none-any.whl.metadata (9.9 kB)\n",
            "Requirement already satisfied: shapely>=2.0.0 in /usr/local/lib/python3.11/dist-packages (from sahi>=0.11.10->yolov5->PytorchWildlife->-r requirements.txt (line 1)) (2.1.0)\n",
            "Collecting terminaltables (from sahi>=0.11.10->yolov5->PytorchWildlife->-r requirements.txt (line 1))\n",
            "  Downloading terminaltables-3.1.10-py2.py3-none-any.whl.metadata (3.5 kB)\n",
            "Requirement already satisfied: absl-py>=0.4 in /usr/local/lib/python3.11/dist-packages (from tensorboard>=2.4.1->yolov5->PytorchWildlife->-r requirements.txt (line 1)) (1.4.0)\n",
            "Requirement already satisfied: grpcio>=1.48.2 in /usr/local/lib/python3.11/dist-packages (from tensorboard>=2.4.1->yolov5->PytorchWildlife->-r requirements.txt (line 1)) (1.71.0)\n",
            "Requirement already satisfied: markdown>=2.6.8 in /usr/local/lib/python3.11/dist-packages (from tensorboard>=2.4.1->yolov5->PytorchWildlife->-r requirements.txt (line 1)) (3.8)\n",
            "Requirement already satisfied: protobuf!=4.24.0,>=3.19.6 in /usr/local/lib/python3.11/dist-packages (from tensorboard>=2.4.1->yolov5->PytorchWildlife->-r requirements.txt (line 1)) (5.29.4)\n",
            "Requirement already satisfied: tensorboard-data-server<0.8.0,>=0.7.0 in /usr/local/lib/python3.11/dist-packages (from tensorboard>=2.4.1->yolov5->PytorchWildlife->-r requirements.txt (line 1)) (0.7.2)\n",
            "Requirement already satisfied: werkzeug>=1.0.1 in /usr/local/lib/python3.11/dist-packages (from tensorboard>=2.4.1->yolov5->PytorchWildlife->-r requirements.txt (line 1)) (3.1.3)\n",
            "Requirement already satisfied: shellingham>=1.3.0 in /usr/local/lib/python3.11/dist-packages (from typer<1.0,>=0.12->gradio->PytorchWildlife->-r requirements.txt (line 1)) (1.5.4)\n",
            "Requirement already satisfied: rich>=10.11.0 in /usr/local/lib/python3.11/dist-packages (from typer<1.0,>=0.12->gradio->PytorchWildlife->-r requirements.txt (line 1)) (13.9.4)\n",
            "Requirement already satisfied: termcolor in /usr/local/lib/python3.11/dist-packages (from fire->yolov5->PytorchWildlife->-r requirements.txt (line 1)) (3.0.1)\n",
            "Requirement already satisfied: smmap<6,>=3.0.1 in /usr/local/lib/python3.11/dist-packages (from gitdb<5,>=4.0.1->gitpython>=3.1.30->yolov5->PytorchWildlife->-r requirements.txt (line 1)) (5.0.2)\n",
            "Requirement already satisfied: markdown-it-py>=2.2.0 in /usr/local/lib/python3.11/dist-packages (from rich>=10.11.0->typer<1.0,>=0.12->gradio->PytorchWildlife->-r requirements.txt (line 1)) (3.0.0)\n",
            "Requirement already satisfied: pygments<3.0.0,>=2.13.0 in /usr/local/lib/python3.11/dist-packages (from rich>=10.11.0->typer<1.0,>=0.12->gradio->PytorchWildlife->-r requirements.txt (line 1)) (2.19.1)\n",
            "Requirement already satisfied: mdurl~=0.1 in /usr/local/lib/python3.11/dist-packages (from markdown-it-py>=2.2.0->rich>=10.11.0->typer<1.0,>=0.12->gradio->PytorchWildlife->-r requirements.txt (line 1)) (0.1.2)\n",
            "Downloading supervision-0.23.0-py3-none-any.whl (151 kB)\n",
            "   ━━━━━━━━━━━━━━━━━━━━━━━━━━━━━━━━━━━━━━━━ 151.5/151.5 kB 12.4 MB/s eta 0:00:00\n",
            "Downloading ultralytics-8.3.119-py3-none-any.whl (1.0 MB)\n",
            "   ━━━━━━━━━━━━━━━━━━━━━━━━━━━━━━━━━━━━━━━━ 1.0/1.0 MB 51.5 MB/s eta 0:00:00\n",
            "Downloading munch-4.0.0-py2.py3-none-any.whl (9.9 kB)\n",
            "Downloading nvidia_cublas_cu12-12.4.5.8-py3-none-manylinux2014_x86_64.whl (363.4 MB)\n",
            "   ━━━━━━━━━━━━━━━━━━━━━━━━━━━━━━━━━━━━━━━━ 363.4/363.4 MB 2.8 MB/s eta 0:00:00\n",
            "Downloading nvidia_cuda_cupti_cu12-12.4.127-py3-none-manylinux2014_x86_64.whl (13.8 MB)\n",
            "   ━━━━━━━━━━━━━━━━━━━━━━━━━━━━━━━━━━━━━━━━ 13.8/13.8 MB 133.3 MB/s eta 0:00:00\n",
            "Downloading nvidia_cuda_nvrtc_cu12-12.4.127-py3-none-manylinux2014_x86_64.whl (24.6 MB)\n",
            "   ━━━━━━━━━━━━━━━━━━━━━━━━━━━━━━━━━━━━━━━━ 24.6/24.6 MB 100.1 MB/s eta 0:00:00\n",
            "Downloading nvidia_cuda_runtime_cu12-12.4.127-py3-none-manylinux2014_x86_64.whl (883 kB)\n",
            "   ━━━━━━━━━━━━━━━━━━━━━━━━━━━━━━━━━━━━━━━━ 883.7/883.7 kB 65.5 MB/s eta 0:00:00\n",
            "Downloading nvidia_cudnn_cu12-9.1.0.70-py3-none-manylinux2014_x86_64.whl (664.8 MB)\n",
            "   ━━━━━━━━━━━━━━━━━━━━━━━━━━━━━━━━━━━━━━━━ 664.8/664.8 MB 2.1 MB/s eta 0:00:00\n",
            "Downloading nvidia_cufft_cu12-11.2.1.3-py3-none-manylinux2014_x86_64.whl (211.5 MB)\n",
            "   ━━━━━━━━━━━━━━━━━━━━━━━━━━━━━━━━━━━━━━━━ 211.5/211.5 MB 5.3 MB/s eta 0:00:00\n",
            "Downloading nvidia_curand_cu12-10.3.5.147-py3-none-manylinux2014_x86_64.whl (56.3 MB)\n",
            "   ━━━━━━━━━━━━━━━━━━━━━━━━━━━━━━━━━━━━━━━━ 56.3/56.3 MB 11.6 MB/s eta 0:00:00\n",
            "Downloading nvidia_cusolver_cu12-11.6.1.9-py3-none-manylinux2014_x86_64.whl (127.9 MB)\n",
            "   ━━━━━━━━━━━━━━━━━━━━━━━━━━━━━━━━━━━━━━━━ 127.9/127.9 MB 7.6 MB/s eta 0:00:00\n",
            "Downloading nvidia_cusparse_cu12-12.3.1.170-py3-none-manylinux2014_x86_64.whl (207.5 MB)\n",
            "   ━━━━━━━━━━━━━━━━━━━━━━━━━━━━━━━━━━━━━━━━ 207.5/207.5 MB 5.4 MB/s eta 0:00:00\n",
            "Downloading nvidia_nvjitlink_cu12-12.4.127-py3-none-manylinux2014_x86_64.whl (21.1 MB)\n",
            "   ━━━━━━━━━━━━━━━━━━━━━━━━━━━━━━━━━━━━━━━━ 21.1/21.1 MB 109.5 MB/s eta 0:00:00\n",
            "Downloading ultralytics_thop-2.0.14-py3-none-any.whl (26 kB)\n",
            "Downloading gradio-5.27.1-py3-none-any.whl (54.0 MB)\n",
            "   ━━━━━━━━━━━━━━━━━━━━━━━━━━━━━━━━━━━━━━━━ 54.0/54.0 MB 18.0 MB/s eta 0:00:00\n",
            "Downloading gradio_client-1.9.1-py3-none-any.whl (322 kB)\n",
            "   ━━━━━━━━━━━━━━━━━━━━━━━━━━━━━━━━━━━━━━━━ 322.7/322.7 kB 30.9 MB/s eta 0:00:00\n",
            "Downloading yolov5-7.0.13-py37.py38.py39.py310-none-any.whl (953 kB)\n",
            "   ━━━━━━━━━━━━━━━━━━━━━━━━━━━━━━━━━━━━━━━━ 953.4/953.4 kB 64.3 MB/s eta 0:00:00\n",
            "Downloading aiofiles-24.1.0-py3-none-any.whl (15 kB)\n",
            "Downloading boto3-1.38.4-py3-none-any.whl (139 kB)\n",
            "   ━━━━━━━━━━━━━━━━━━━━━━━━━━━━━━━━━━━━━━━━ 139.9/139.9 kB 14.4 MB/s eta 0:00:00\n",
            "Downloading fastapi-0.115.12-py3-none-any.whl (95 kB)\n",
            "   ━━━━━━━━━━━━━━━━━━━━━━━━━━━━━━━━━━━━━━━━ 95.2/95.2 kB 10.6 MB/s eta 0:00:00\n",
            "Downloading groovy-0.1.2-py3-none-any.whl (14 kB)\n",
            "Downloading python_multipart-0.0.20-py3-none-any.whl (24 kB)\n",
            "Downloading roboflow-1.1.62-py3-none-any.whl (85 kB)\n",
            "   ━━━━━━━━━━━━━━━━━━━━━━━━━━━━━━━━━━━━━━━━ 85.3/85.3 kB 8.8 MB/s eta 0:00:00\n",
            "Downloading idna-3.7-py3-none-any.whl (66 kB)\n",
            "   ━━━━━━━━━━━━━━━━━━━━━━━━━━━━━━━━━━━━━━━━ 66.8/66.8 kB 6.6 MB/s eta 0:00:00\n",
            "Downloading opencv_python_headless-4.10.0.84-cp37-abi3-manylinux_2_17_x86_64.manylinux2014_x86_64.whl (49.9 MB)\n",
            "   ━━━━━━━━━━━━━━━━━━━━━━━━━━━━━━━━━━━━━━━━ 49.9/49.9 MB 18.4 MB/s eta 0:00:00\n",
            "Downloading ruff-0.11.7-py3-none-manylinux_2_17_x86_64.manylinux2014_x86_64.whl (11.5 MB)\n",
            "   ━━━━━━━━━━━━━━━━━━━━━━━━━━━━━━━━━━━━━━━━ 11.5/11.5 MB 105.0 MB/s eta 0:00:00\n",
            "Downloading safehttpx-0.1.6-py3-none-any.whl (8.7 kB)\n",
            "Downloading sahi-0.11.22-py3-none-any.whl (114 kB)\n",
            "   ━━━━━━━━━━━━━━━━━━━━━━━━━━━━━━━━━━━━━━━━ 114.2/114.2 kB 11.4 MB/s eta 0:00:00\n",
            "Downloading pybboxes-0.1.6-py3-none-any.whl (24 kB)\n",
            "Downloading opencv_python-4.10.0.84-cp37-abi3-manylinux_2_17_x86_64.manylinux2014_x86_64.whl (62.5 MB)\n",
            "   ━━━━━━━━━━━━━━━━━━━━━━━━━━━━━━━━━━━━━━━━ 62.5/62.5 MB 11.2 MB/s eta 0:00:00\n",
            "Downloading semantic_version-2.10.0-py2.py3-none-any.whl (15 kB)\n",
            "Downloading starlette-0.46.2-py3-none-any.whl (72 kB)\n",
            "   ━━━━━━━━━━━━━━━━━━━━━━━━━━━━━━━━━━━━━━━━ 72.0/72.0 kB 7.5 MB/s eta 0:00:00\n",
            "Downloading thop-0.1.1.post2209072238-py3-none-any.whl (15 kB)\n",
            "Downloading tomlkit-0.13.2-py3-none-any.whl (37 kB)\n",
            "Downloading uvicorn-0.34.2-py3-none-any.whl (62 kB)\n",
            "   ━━━━━━━━━━━━━━━━━━━━━━━━━━━━━━━━━━━━━━━━ 62.5/62.5 kB 6.1 MB/s eta 0:00:00\n",
            "Downloading ffmpy-0.5.0-py3-none-any.whl (6.0 kB)\n",
            "Downloading pydub-0.25.1-py2.py3-none-any.whl (32 kB)\n",
            "Downloading botocore-1.38.4-py3-none-any.whl (13.5 MB)\n",
            "   ━━━━━━━━━━━━━━━━━━━━━━━━━━━━━━━━━━━━━━━━ 13.5/13.5 MB 122.5 MB/s eta 0:00:00\n",
            "Downloading jmespath-1.0.1-py3-none-any.whl (20 kB)\n",
            "Downloading pillow_heif-0.22.0-cp311-cp311-manylinux_2_17_x86_64.manylinux2014_x86_64.whl (7.8 MB)\n",
            "   ━━━━━━━━━━━━━━━━━━━━━━━━━━━━━━━━━━━━━━━━ 7.8/7.8 MB 136.6 MB/s eta 0:00:00\n",
            "Downloading s3transfer-0.12.0-py3-none-any.whl (84 kB)\n",
            "   ━━━━━━━━━━━━━━━━━━━━━━━━━━━━━━━━━━━━━━━━ 84.8/84.8 kB 9.4 MB/s eta 0:00:00\n",
            "Downloading filetype-1.2.0-py2.py3-none-any.whl (19 kB)\n",
            "Downloading python_dotenv-1.1.0-py3-none-any.whl (20 kB)\n",
            "Downloading terminaltables-3.1.10-py2.py3-none-any.whl (15 kB)\n",
            "Building wheels for collected packages: PytorchWildlife, wget, fire\n",
            "  Building wheel for PytorchWildlife (setup.py): started\n",
            "  Building wheel for PytorchWildlife (setup.py): finished with status 'done'\n",
            "  Created wheel for PytorchWildlife: filename=PytorchWildlife-1.2.2-py3-none-any.whl size=70645 sha256=70cdfcbbf616177a637b134e0c0c07bd23a383a2cd715bfaa33befd4b821ab4f\n",
            "  Stored in directory: /root/.cache/pip/wheels/27/bd/30/9f83541caffd157817027622a1937fbfa8f65ac6b803d31230\n",
            "  Building wheel for wget (setup.py): started\n",
            "  Building wheel for wget (setup.py): finished with status 'done'\n",
            "  Created wheel for wget: filename=wget-3.2-py3-none-any.whl size=9655 sha256=fcdcd342f516a868aae080f0181b593013c9930fe8f4c0ae8d7d59107b3cb355\n",
            "  Stored in directory: /root/.cache/pip/wheels/40/b3/0f/a40dbd1c6861731779f62cc4babcb234387e11d697df70ee97\n",
            "  Building wheel for fire (setup.py): started\n",
            "  Building wheel for fire (setup.py): finished with status 'done'\n",
            "  Created wheel for fire: filename=fire-0.7.0-py3-none-any.whl size=114249 sha256=acdf412684d600b1b563445f3c4514cf09377e2c176a1fbca363d2006b28184a\n",
            "  Stored in directory: /root/.cache/pip/wheels/46/54/24/1624fd5b8674eb1188623f7e8e17cdf7c0f6c24b609dfb8a89\n",
            "Successfully built PytorchWildlife wget fire\n",
            "Installing collected packages: wget, pydub, filetype, uvicorn, tomlkit, terminaltables, semantic-version, ruff, python-multipart, python-dotenv, pybboxes, pillow-heif, opencv-python-headless, opencv-python, nvidia-nvjitlink-cu12, nvidia-curand-cu12, nvidia-cufft-cu12, nvidia-cuda-runtime-cu12, nvidia-cuda-nvrtc-cu12, nvidia-cuda-cupti-cu12, nvidia-cublas-cu12, munch, jmespath, idna, groovy, fire, ffmpy, aiofiles, nvidia-cusparse-cu12, nvidia-cudnn-cu12, botocore, supervision, starlette, sahi, s3transfer, nvidia-cusolver-cu12, safehttpx, roboflow, gradio-client, fastapi, boto3, ultralytics-thop, thop, gradio, ultralytics, yolov5, PytorchWildlife\n",
            "  Attempting uninstall: opencv-python-headless\n",
            "    Found existing installation: opencv-python-headless 4.11.0.86\n",
            "    Uninstalling opencv-python-headless-4.11.0.86:\n",
            "      Successfully uninstalled opencv-python-headless-4.11.0.86\n",
            "  Attempting uninstall: opencv-python\n",
            "    Found existing installation: opencv-python 4.11.0.86\n",
            "    Uninstalling opencv-python-4.11.0.86:\n",
            "      Successfully uninstalled opencv-python-4.11.0.86\n",
            "  Attempting uninstall: nvidia-nvjitlink-cu12\n",
            "    Found existing installation: nvidia-nvjitlink-cu12 12.5.82\n",
            "    Uninstalling nvidia-nvjitlink-cu12-12.5.82:\n",
            "      Successfully uninstalled nvidia-nvjitlink-cu12-12.5.82\n",
            "  Attempting uninstall: nvidia-curand-cu12\n",
            "    Found existing installation: nvidia-curand-cu12 10.3.6.82\n",
            "    Uninstalling nvidia-curand-cu12-10.3.6.82:\n",
            "      Successfully uninstalled nvidia-curand-cu12-10.3.6.82\n",
            "  Attempting uninstall: nvidia-cufft-cu12\n",
            "    Found existing installation: nvidia-cufft-cu12 11.2.3.61\n",
            "    Uninstalling nvidia-cufft-cu12-11.2.3.61:\n",
            "      Successfully uninstalled nvidia-cufft-cu12-11.2.3.61\n",
            "  Attempting uninstall: nvidia-cuda-runtime-cu12\n",
            "    Found existing installation: nvidia-cuda-runtime-cu12 12.5.82\n",
            "    Uninstalling nvidia-cuda-runtime-cu12-12.5.82:\n",
            "      Successfully uninstalled nvidia-cuda-runtime-cu12-12.5.82\n",
            "  Attempting uninstall: nvidia-cuda-nvrtc-cu12\n",
            "    Found existing installation: nvidia-cuda-nvrtc-cu12 12.5.82\n",
            "    Uninstalling nvidia-cuda-nvrtc-cu12-12.5.82:\n",
            "      Successfully uninstalled nvidia-cuda-nvrtc-cu12-12.5.82\n",
            "  Attempting uninstall: nvidia-cuda-cupti-cu12\n",
            "    Found existing installation: nvidia-cuda-cupti-cu12 12.5.82\n",
            "    Uninstalling nvidia-cuda-cupti-cu12-12.5.82:\n",
            "      Successfully uninstalled nvidia-cuda-cupti-cu12-12.5.82\n",
            "  Attempting uninstall: nvidia-cublas-cu12\n",
            "    Found existing installation: nvidia-cublas-cu12 12.5.3.2\n",
            "    Uninstalling nvidia-cublas-cu12-12.5.3.2:\n",
            "      Successfully uninstalled nvidia-cublas-cu12-12.5.3.2\n",
            "  Attempting uninstall: idna\n",
            "    Found existing installation: idna 3.10\n",
            "    Uninstalling idna-3.10:\n",
            "      Successfully uninstalled idna-3.10\n",
            "  Attempting uninstall: nvidia-cusparse-cu12\n",
            "    Found existing installation: nvidia-cusparse-cu12 12.5.1.3\n",
            "    Uninstalling nvidia-cusparse-cu12-12.5.1.3:\n",
            "      Successfully uninstalled nvidia-cusparse-cu12-12.5.1.3\n",
            "  Attempting uninstall: nvidia-cudnn-cu12\n",
            "    Found existing installation: nvidia-cudnn-cu12 9.3.0.75\n",
            "    Uninstalling nvidia-cudnn-cu12-9.3.0.75:\n",
            "      Successfully uninstalled nvidia-cudnn-cu12-9.3.0.75\n",
            "  Attempting uninstall: nvidia-cusolver-cu12\n",
            "    Found existing installation: nvidia-cusolver-cu12 11.6.3.83\n",
            "    Uninstalling nvidia-cusolver-cu12-11.6.3.83:\n",
            "      Successfully uninstalled nvidia-cusolver-cu12-11.6.3.83\n",
            "Successfully installed PytorchWildlife-1.2.2 aiofiles-24.1.0 boto3-1.38.4 botocore-1.38.4 fastapi-0.115.12 ffmpy-0.5.0 filetype-1.2.0 fire-0.7.0 gradio-5.27.1 gradio-client-1.9.1 groovy-0.1.2 idna-3.7 jmespath-1.0.1 munch-4.0.0 nvidia-cublas-cu12-12.4.5.8 nvidia-cuda-cupti-cu12-12.4.127 nvidia-cuda-nvrtc-cu12-12.4.127 nvidia-cuda-runtime-cu12-12.4.127 nvidia-cudnn-cu12-9.1.0.70 nvidia-cufft-cu12-11.2.1.3 nvidia-curand-cu12-10.3.5.147 nvidia-cusolver-cu12-11.6.1.9 nvidia-cusparse-cu12-12.3.1.170 nvidia-nvjitlink-cu12-12.4.127 opencv-python-4.10.0.84 opencv-python-headless-4.10.0.84 pillow-heif-0.22.0 pybboxes-0.1.6 pydub-0.25.1 python-dotenv-1.1.0 python-multipart-0.0.20 roboflow-1.1.62 ruff-0.11.7 s3transfer-0.12.0 safehttpx-0.1.6 sahi-0.11.22 semantic-version-2.10.0 starlette-0.46.2 supervision-0.23.0 terminaltables-3.1.10 thop-0.1.1.post2209072238 tomlkit-0.13.2 ultralytics-8.3.119 ultralytics-thop-2.0.14 uvicorn-0.34.2 wget-3.2 yolov5-7.0.13\n"
          ]
        }
      ]
    },
    {
      "cell_type": "code",
      "source": [
        "#this one is to run it first so we get the weights\n",
        "%cd /content/drive/MyDrive/dataset/CameraTraps/PW_FT_detection\n",
        "!python main.py --task validation --config config.yaml"
      ],
      "metadata": {
        "colab": {
          "base_uri": "https://localhost:8080/"
        },
        "id": "iEkb1u0_XNvG",
        "outputId": "fd24aa97-9f21-4260-f269-d1f70f22cd02"
      },
      "execution_count": null,
      "outputs": [
        {
          "output_type": "stream",
          "name": "stdout",
          "text": [
            "/content/drive/MyDrive/dataset/CameraTraps/PW_FT_detection\n",
            "YOLOv9e summary: 721 layers, 58,147,225 parameters, 0 gradients, 192.7 GFLOPs\n",
            "Ultralytics 8.3.119 🚀 Python-3.11.12 torch-2.6.0+cu124 CUDA:0 (Tesla T4, 15095MiB)\n",
            "YOLOv9e summary (fused): 279 layers, 57,378,713 parameters, 0 gradients, 189.1 GFLOPs\n",
            "\u001b[34m\u001b[1mval: \u001b[0mFast image access ✅ (ping: 0.6±0.2 ms, read: 0.1±0.0 MB/s, size: 92.0 KB)\n",
            "\u001b[34m\u001b[1mval: \u001b[0mScanning /content/drive/MyDrive/dataset/CameraTraps/PW_FT_detection/data/data_example/labels/train... 10 images, 0 backgrounds, 0 corrupt: 100% 10/10 [00:13<00:00,  1.34s/it]\n",
            "\u001b[34m\u001b[1mval: \u001b[0mNew cache created: /content/drive/MyDrive/dataset/CameraTraps/PW_FT_detection/data/data_example/labels/train.cache\n",
            "                 Class     Images  Instances      Box(P          R      mAP50  mAP50-95): 100% 1/1 [00:00<00:00,  1.04it/s]\n",
            "                   all         10         10      0.993          1      0.995      0.754\n",
            "                animal         10         10      0.993          1      0.995      0.754\n",
            "Speed: 0.7ms preprocess, 69.1ms inference, 0.0ms loss, 13.1ms postprocess per image\n",
            "Saving runs/val_MDV6-yolov9-e/exp6/predictions.json...\n",
            "Results saved to \u001b[1mruns/val_MDV6-yolov9-e/exp6\u001b[0m\n"
          ]
        }
      ]
    },
    {
      "cell_type": "markdown",
      "source": [
        "this is my config.yaml for the run above:\n",
        "# General\n",
        "model: YOLO #YOLO or RTDETR\n",
        "model_name: MDV6-yolov9-e\n",
        "data: /content/drive/MyDrive/dataset/CameraTraps/PW_FT_detection/data/data_example.yaml\n",
        "test_data: /content/drive/MyDrive/dataset/CameraTraps/PW_FT_detection/data/data_example/images/val\n",
        "task: validation\n",
        "exp_name: MDV6-yolov9-e\n",
        "\n",
        "# Train\n",
        "epochs: 20\n",
        "batch_size_train: 16\n",
        "imgsz: 640\n",
        "device_train: 0\n",
        "workers: 8\n",
        "optimizer: auto\n",
        "lr0: 0.01\n",
        "patience: 5\n",
        "save_period: 1\n",
        "val: True\n",
        "resume: False\n",
        "weights: None # Path to weight to resume training\n",
        "\n",
        "# Validation\n",
        "save_json: True\n",
        "plots: True\n",
        "device_val: 0\n",
        "batch_size_val: 12\n",
        "\n",
        "and my data_example.yaml:\n",
        "names:\n",
        "  0: animal\n",
        "  1: person\n",
        "  2: vehicle\n",
        "path: /content/drive/MyDrive/dataset/CameraTraps/PW_FT_detection/data/data_example\n",
        "test: images/val\n",
        "train: images/train\n",
        "val:   images/val"
      ],
      "metadata": {
        "id": "0qJg0UXNiK57"
      }
    },
    {
      "cell_type": "markdown",
      "source": [
        "# Ok now starts the fun part"
      ],
      "metadata": {
        "id": "m29BYbM-k7OD"
      }
    },
    {
      "cell_type": "code",
      "source": [
        "# === General ===\n",
        "model: YOLO\n",
        "model_name: MDV6-yolov9-c\n",
        "data: ./data/COD10K.yaml\n",
        "task: train\n",
        "exp_name: COD10K_finetune\n",
        "\n",
        "# === Training ===\n",
        "epochs: 20\n",
        "batch_size_train: 16\n",
        "imgsz: 640\n",
        "device_train: 0\n",
        "workers: 8\n",
        "optimizer: auto\n",
        "lr0: 0.01\n",
        "patience: 5       # <-- already present\n",
        "save_period: 1    # <-- make sure this line is here\n",
        "val: True\n",
        "resume: False\n",
        "weights: None\n",
        "\n",
        "# === Validation (during training) ===\n",
        "save_json: True\n",
        "plot: True\n",
        "device_val: 0\n",
        "batch_size_val: 12\n",
        "\n",
        "current config for all the stuf going on"
      ],
      "metadata": {
        "colab": {
          "base_uri": "https://localhost:8080/",
          "height": 106
        },
        "id": "BiPdHDtYk-cd",
        "outputId": "594892cc-710e-42ee-a71f-24bde13b7889"
      },
      "execution_count": null,
      "outputs": [
        {
          "output_type": "error",
          "ename": "SyntaxError",
          "evalue": "invalid syntax (<ipython-input-10-70dca45d6676>, line 5)",
          "traceback": [
            "\u001b[0;36m  File \u001b[0;32m\"<ipython-input-10-70dca45d6676>\"\u001b[0;36m, line \u001b[0;32m5\u001b[0m\n\u001b[0;31m    data: ./data/COD10K.yaml         # <- your COD10K.yaml\u001b[0m\n\u001b[0m          ^\u001b[0m\n\u001b[0;31mSyntaxError\u001b[0m\u001b[0;31m:\u001b[0m invalid syntax\n"
          ]
        }
      ]
    },
    {
      "cell_type": "code",
      "source": [
        "%cd /content/drive/MyDrive/dataset/CameraTraps/PW_FT_detection\n",
        "\n",
        "# start fine-tuning\n",
        "!python main.py --task train --config config.yaml"
      ],
      "metadata": {
        "colab": {
          "base_uri": "https://localhost:8080/"
        },
        "id": "fqDGynCBlAkL",
        "outputId": "d61f60dc-e8a8-4e92-d5b1-564e16145566"
      },
      "execution_count": null,
      "outputs": [
        {
          "output_type": "stream",
          "name": "stdout",
          "text": [
            "/content/drive/MyDrive/dataset/CameraTraps/PW_FT_detection\n",
            "YOLOv9c summary: 358 layers, 25,531,545 parameters, 0 gradients, 103.7 GFLOPs\n",
            "Ultralytics 8.3.119 🚀 Python-3.11.12 torch-2.6.0+cu124 CUDA:0 (Tesla T4, 15095MiB)\n",
            "\u001b[34m\u001b[1mengine/trainer: \u001b[0mtask=detect, mode=train, model=/root/.cache/torch/hub/checkpoints/MDV6b-yolov9c.pt, data=/content/drive/MyDrive/dataset/CameraTraps/PW_FT_detection/data/COD10K.yaml, epochs=20, time=None, patience=5, batch=16, imgsz=640, save=True, save_period=1, cache=False, device=0, workers=8, project=runs/train_COD10K_finetune, name=exp2, exist_ok=False, pretrained=True, optimizer=auto, verbose=True, seed=0, deterministic=True, single_cls=False, rect=False, cos_lr=False, close_mosaic=10, resume=False, amp=True, fraction=1.0, profile=False, freeze=None, multi_scale=False, overlap_mask=True, mask_ratio=4, dropout=0.0, val=True, split=val, save_json=False, conf=None, iou=0.7, max_det=300, half=False, dnn=False, plots=True, source=None, vid_stride=1, stream_buffer=False, visualize=False, augment=False, agnostic_nms=False, classes=None, retina_masks=False, embed=None, show=False, save_frames=False, save_txt=False, save_conf=False, save_crop=False, show_labels=True, show_conf=True, show_boxes=True, line_width=None, format=torchscript, keras=False, optimize=False, int8=False, dynamic=False, simplify=True, opset=None, workspace=None, nms=False, lr0=0.01, lrf=0.01, momentum=0.937, weight_decay=0.0005, warmup_epochs=3.0, warmup_momentum=0.8, warmup_bias_lr=0.1, box=7.5, cls=0.5, dfl=1.5, pose=12.0, kobj=1.0, nbs=64, hsv_h=0.015, hsv_s=0.7, hsv_v=0.4, degrees=0.0, translate=0.1, scale=0.5, shear=0.0, perspective=0.0, flipud=0.0, fliplr=0.5, bgr=0.0, mosaic=1.0, mixup=0.0, cutmix=0.0, copy_paste=0.0, copy_paste_mode=flip, auto_augment=randaugment, erasing=0.4, cfg=None, tracker=botsort.yaml, save_dir=runs/train_COD10K_finetune/exp2\n",
            "Overriding model.yaml nc=3 with nc=1\n",
            "\n",
            "                   from  n    params  module                                       arguments                     \n",
            "  0                  -1  1      1856  ultralytics.nn.modules.conv.Conv             [3, 64, 3, 2]                 \n",
            "  1                  -1  1     73984  ultralytics.nn.modules.conv.Conv             [64, 128, 3, 2]               \n",
            "  2                  -1  1    212864  ultralytics.nn.modules.block.RepNCSPELAN4    [128, 256, 128, 64, 1]        \n",
            "  3                  -1  1    164352  ultralytics.nn.modules.block.ADown           [256, 256]                    \n",
            "  4                  -1  1    847616  ultralytics.nn.modules.block.RepNCSPELAN4    [256, 512, 256, 128, 1]       \n",
            "  5                  -1  1    656384  ultralytics.nn.modules.block.ADown           [512, 512]                    \n",
            "  6                  -1  1   2857472  ultralytics.nn.modules.block.RepNCSPELAN4    [512, 512, 512, 256, 1]       \n",
            "  7                  -1  1    656384  ultralytics.nn.modules.block.ADown           [512, 512]                    \n",
            "  8                  -1  1   2857472  ultralytics.nn.modules.block.RepNCSPELAN4    [512, 512, 512, 256, 1]       \n",
            "  9                  -1  1    656896  ultralytics.nn.modules.block.SPPELAN         [512, 512, 256]               \n",
            " 10                  -1  1         0  torch.nn.modules.upsampling.Upsample         [None, 2, 'nearest']          \n",
            " 11             [-1, 6]  1         0  ultralytics.nn.modules.conv.Concat           [1]                           \n",
            " 12                  -1  1   3119616  ultralytics.nn.modules.block.RepNCSPELAN4    [1024, 512, 512, 256, 1]      \n",
            " 13                  -1  1         0  torch.nn.modules.upsampling.Upsample         [None, 2, 'nearest']          \n",
            " 14             [-1, 4]  1         0  ultralytics.nn.modules.conv.Concat           [1]                           \n",
            " 15                  -1  1    912640  ultralytics.nn.modules.block.RepNCSPELAN4    [1024, 256, 256, 128, 1]      \n",
            " 16                  -1  1    164352  ultralytics.nn.modules.block.ADown           [256, 256]                    \n",
            " 17            [-1, 12]  1         0  ultralytics.nn.modules.conv.Concat           [1]                           \n",
            " 18                  -1  1   2988544  ultralytics.nn.modules.block.RepNCSPELAN4    [768, 512, 512, 256, 1]       \n",
            " 19                  -1  1    656384  ultralytics.nn.modules.block.ADown           [512, 512]                    \n",
            " 20             [-1, 9]  1         0  ultralytics.nn.modules.conv.Concat           [1]                           \n",
            " 21                  -1  1   3119616  ultralytics.nn.modules.block.RepNCSPELAN4    [1024, 512, 512, 256, 1]      \n",
            " 22        [15, 18, 21]  1   5583571  ultralytics.nn.modules.head.Detect           [1, [256, 512, 512]]          \n",
            "YOLOv9c summary: 358 layers, 25,530,003 parameters, 25,529,987 gradients, 103.7 GFLOPs\n",
            "\n",
            "Transferred 931/937 items from pretrained weights\n",
            "Freezing layer 'model.22.dfl.conv.weight'\n",
            "\u001b[34m\u001b[1mAMP: \u001b[0mrunning Automatic Mixed Precision (AMP) checks...\n",
            "Downloading https://github.com/ultralytics/assets/releases/download/v8.3.0/yolo11n.pt to 'yolo11n.pt'...\n",
            "100% 5.35M/5.35M [00:00<00:00, 154MB/s]\n",
            "\u001b[34m\u001b[1mAMP: \u001b[0mchecks passed ✅\n",
            "\u001b[34m\u001b[1mtrain: \u001b[0mFast image access ✅ (ping: 0.6±0.1 ms, read: 0.2±0.1 MB/s, size: 156.2 KB)\n",
            "\u001b[34m\u001b[1mtrain: \u001b[0mScanning /content/drive/MyDrive/dataset/CameraTraps/PW_FT_detection/data/COD10K/labels/train... 3040 images, 2960 backgrounds, 0 corrupt: 100% 6000/6000 [41:07<00:00,  2.43it/s] \n",
            "\u001b[34m\u001b[1mtrain: \u001b[0mNew cache created: /content/drive/MyDrive/dataset/CameraTraps/PW_FT_detection/data/COD10K/labels/train.cache\n",
            "\u001b[34m\u001b[1malbumentations: \u001b[0mBlur(p=0.01, blur_limit=(3, 7)), MedianBlur(p=0.01, blur_limit=(3, 7)), ToGray(p=0.01, num_output_channels=3, method='weighted_average'), CLAHE(p=0.01, clip_limit=(1.0, 4.0), tile_grid_size=(8, 8))\n",
            "\u001b[34m\u001b[1mval: \u001b[0mFast image access ✅ (ping: 0.9±0.2 ms, read: 0.4±0.2 MB/s, size: 293.3 KB)\n",
            "\u001b[34m\u001b[1mval: \u001b[0mScanning /content/drive/MyDrive/dataset/CameraTraps/PW_FT_detection/data/COD10K/labels/test... 2026 images, 1974 backgrounds, 0 corrupt: 100% 4000/4000 [28:14<00:00,  2.36it/s] \n",
            "\u001b[34m\u001b[1mval: \u001b[0mNew cache created: /content/drive/MyDrive/dataset/CameraTraps/PW_FT_detection/data/COD10K/labels/test.cache\n",
            "Plotting labels to runs/train_COD10K_finetune/exp2/labels.jpg... \n",
            "\u001b[34m\u001b[1moptimizer:\u001b[0m 'optimizer=auto' found, ignoring 'lr0=0.01' and 'momentum=0.937' and determining best 'optimizer', 'lr0' and 'momentum' automatically... \n",
            "\u001b[34m\u001b[1moptimizer:\u001b[0m AdamW(lr=0.002, momentum=0.9) with parameter groups 154 weight(decay=0.0), 161 weight(decay=0.0005), 160 bias(decay=0.0)\n",
            "Image sizes 640 train, 640 val\n",
            "Using 2 dataloader workers\n",
            "Logging results to \u001b[1mruns/train_COD10K_finetune/exp2\u001b[0m\n",
            "Starting training for 20 epochs...\n",
            "\n",
            "      Epoch    GPU_mem   box_loss   cls_loss   dfl_loss  Instances       Size\n",
            "       1/20      10.2G      1.857      3.015      2.094         12        640: 100% 375/375 [05:13<00:00,  1.19it/s]\n",
            "                 Class     Images  Instances      Box(P          R      mAP50  mAP50-95): 100% 125/125 [01:07<00:00,  1.86it/s]\n",
            "                   all       4000       2365     0.0417      0.082     0.0141    0.00425\n",
            "\n",
            "      Epoch    GPU_mem   box_loss   cls_loss   dfl_loss  Instances       Size\n",
            "       2/20      10.5G      2.189      3.112       2.38         17        640: 100% 375/375 [05:07<00:00,  1.22it/s]\n",
            "                 Class     Images  Instances      Box(P          R      mAP50  mAP50-95): 100% 125/125 [01:07<00:00,  1.86it/s]\n",
            "                   all       4000       2365     0.0594      0.244     0.0438     0.0108\n",
            "\n",
            "      Epoch    GPU_mem   box_loss   cls_loss   dfl_loss  Instances       Size\n",
            "       3/20      10.3G      2.215      3.235      2.433         21        640: 100% 375/375 [05:07<00:00,  1.22it/s]\n",
            "                 Class     Images  Instances      Box(P          R      mAP50  mAP50-95): 100% 125/125 [01:08<00:00,  1.83it/s]\n",
            "                   all       4000       2365     0.0564      0.198     0.0336    0.00785\n",
            "\n",
            "      Epoch    GPU_mem   box_loss   cls_loss   dfl_loss  Instances       Size\n",
            "       4/20      10.4G      2.163      3.127      2.365         24        640: 100% 375/375 [05:04<00:00,  1.23it/s]\n",
            "                 Class     Images  Instances      Box(P          R      mAP50  mAP50-95): 100% 125/125 [01:05<00:00,  1.90it/s]\n",
            "                   all       4000       2365    0.00472      0.734     0.0351    0.00922\n",
            "\n",
            "      Epoch    GPU_mem   box_loss   cls_loss   dfl_loss  Instances       Size\n",
            "       5/20      10.5G      2.099      3.069      2.313         15        640: 100% 375/375 [05:03<00:00,  1.23it/s]\n",
            "                 Class     Images  Instances      Box(P          R      mAP50  mAP50-95): 100% 125/125 [01:06<00:00,  1.88it/s]\n",
            "                   all       4000       2365     0.0425      0.481     0.0686     0.0201\n",
            "\n",
            "      Epoch    GPU_mem   box_loss   cls_loss   dfl_loss  Instances       Size\n",
            "       6/20      10.3G       2.01      2.978      2.251         23        640: 100% 375/375 [05:05<00:00,  1.23it/s]\n",
            "                 Class     Images  Instances      Box(P          R      mAP50  mAP50-95): 100% 125/125 [01:05<00:00,  1.90it/s]\n",
            "                   all       4000       2365     0.0317      0.566     0.0931     0.0253\n",
            "\n",
            "      Epoch    GPU_mem   box_loss   cls_loss   dfl_loss  Instances       Size\n",
            "       7/20      10.4G      1.962      2.921      2.232         27        640: 100% 375/375 [05:05<00:00,  1.23it/s]\n",
            "                 Class     Images  Instances      Box(P          R      mAP50  mAP50-95): 100% 125/125 [01:05<00:00,  1.90it/s]\n",
            "                   all       4000       2365      0.192      0.222       0.11     0.0343\n",
            "\n",
            "      Epoch    GPU_mem   box_loss   cls_loss   dfl_loss  Instances       Size\n",
            "       8/20      10.4G      1.936      2.888      2.188         26        640: 100% 375/375 [05:06<00:00,  1.22it/s]\n",
            "                 Class     Images  Instances      Box(P          R      mAP50  mAP50-95): 100% 125/125 [01:05<00:00,  1.90it/s]\n",
            "                   all       4000       2365      0.192      0.225      0.119      0.039\n",
            "\n",
            "      Epoch    GPU_mem   box_loss   cls_loss   dfl_loss  Instances       Size\n",
            "       9/20      10.4G      1.934      2.827      2.156         21        640: 100% 375/375 [05:07<00:00,  1.22it/s]\n",
            "                 Class     Images  Instances      Box(P          R      mAP50  mAP50-95): 100% 125/125 [01:05<00:00,  1.91it/s]\n",
            "                   all       4000       2365        0.2      0.274      0.145     0.0462\n",
            "\n",
            "      Epoch    GPU_mem   box_loss   cls_loss   dfl_loss  Instances       Size\n",
            "      10/20      10.4G      1.862       2.75      2.114         29        640: 100% 375/375 [05:08<00:00,  1.22it/s]\n",
            "                 Class     Images  Instances      Box(P          R      mAP50  mAP50-95): 100% 125/125 [01:06<00:00,  1.87it/s]\n",
            "                   all       4000       2365      0.207      0.212      0.134     0.0436\n",
            "Closing dataloader mosaic\n",
            "\u001b[34m\u001b[1malbumentations: \u001b[0mBlur(p=0.01, blur_limit=(3, 7)), MedianBlur(p=0.01, blur_limit=(3, 7)), ToGray(p=0.01, num_output_channels=3, method='weighted_average'), CLAHE(p=0.01, clip_limit=(1.0, 4.0), tile_grid_size=(8, 8))\n",
            "\n",
            "      Epoch    GPU_mem   box_loss   cls_loss   dfl_loss  Instances       Size\n",
            "      11/20      10.6G       2.08      2.875      2.387         12        640: 100% 375/375 [05:03<00:00,  1.24it/s]\n",
            "                 Class     Images  Instances      Box(P          R      mAP50  mAP50-95): 100% 125/125 [01:04<00:00,  1.94it/s]\n",
            "                   all       4000       2365      0.177      0.351      0.151     0.0498\n",
            "\n",
            "      Epoch    GPU_mem   box_loss   cls_loss   dfl_loss  Instances       Size\n",
            "      12/20      10.4G      2.063      2.742      2.397         11        640: 100% 375/375 [05:00<00:00,  1.25it/s]\n",
            "                 Class     Images  Instances      Box(P          R      mAP50  mAP50-95): 100% 125/125 [01:04<00:00,  1.94it/s]\n",
            "                   all       4000       2365      0.228      0.293       0.16     0.0545\n",
            "\n",
            "      Epoch    GPU_mem   box_loss   cls_loss   dfl_loss  Instances       Size\n",
            "      13/20      10.6G      2.006      2.704      2.356          9        640: 100% 375/375 [05:00<00:00,  1.25it/s]\n",
            "                 Class     Images  Instances      Box(P          R      mAP50  mAP50-95): 100% 125/125 [01:05<00:00,  1.91it/s]\n",
            "                   all       4000       2365      0.211      0.274      0.138     0.0492\n",
            "\n",
            "      Epoch    GPU_mem   box_loss   cls_loss   dfl_loss  Instances       Size\n",
            "      14/20      10.3G      1.978      2.635      2.289          7        640: 100% 375/375 [05:00<00:00,  1.25it/s]\n",
            "                 Class     Images  Instances      Box(P          R      mAP50  mAP50-95): 100% 125/125 [01:05<00:00,  1.91it/s]\n",
            "                   all       4000       2365      0.257      0.301      0.196     0.0731\n",
            "\n",
            "      Epoch    GPU_mem   box_loss   cls_loss   dfl_loss  Instances       Size\n",
            "      15/20      10.4G      1.919      2.595      2.228         10        640: 100% 375/375 [05:02<00:00,  1.24it/s]\n",
            "                 Class     Images  Instances      Box(P          R      mAP50  mAP50-95): 100% 125/125 [01:05<00:00,  1.91it/s]\n",
            "                   all       4000       2365      0.315      0.318      0.226     0.0842\n",
            "\n",
            "      Epoch    GPU_mem   box_loss   cls_loss   dfl_loss  Instances       Size\n",
            "      16/20      10.4G      1.885      2.538      2.214          9        640: 100% 375/375 [04:59<00:00,  1.25it/s]\n",
            "                 Class     Images  Instances      Box(P          R      mAP50  mAP50-95): 100% 125/125 [01:04<00:00,  1.95it/s]\n",
            "                   all       4000       2365      0.323      0.305      0.232     0.0921\n",
            "\n",
            "      Epoch    GPU_mem   box_loss   cls_loss   dfl_loss  Instances       Size\n",
            "      17/20      10.3G      1.862      2.453      2.177         11        640: 100% 375/375 [05:01<00:00,  1.25it/s]\n",
            "                 Class     Images  Instances      Box(P          R      mAP50  mAP50-95): 100% 125/125 [01:04<00:00,  1.92it/s]\n",
            "                   all       4000       2365      0.342      0.327      0.252     0.0996\n",
            "\n",
            "      Epoch    GPU_mem   box_loss   cls_loss   dfl_loss  Instances       Size\n",
            "      18/20      10.3G      1.816      2.426      2.148         12        640: 100% 375/375 [05:00<00:00,  1.25it/s]\n",
            "                 Class     Images  Instances      Box(P          R      mAP50  mAP50-95): 100% 125/125 [01:03<00:00,  1.96it/s]\n",
            "                   all       4000       2365      0.357      0.326      0.262      0.108\n",
            "\n",
            "      Epoch    GPU_mem   box_loss   cls_loss   dfl_loss  Instances       Size\n",
            "      19/20      10.5G      1.772      2.364      2.104         12        640: 100% 375/375 [05:00<00:00,  1.25it/s]\n",
            "                 Class     Images  Instances      Box(P          R      mAP50  mAP50-95): 100% 125/125 [01:06<00:00,  1.89it/s]\n",
            "                   all       4000       2365      0.366      0.356      0.288      0.119\n",
            "\n",
            "      Epoch    GPU_mem   box_loss   cls_loss   dfl_loss  Instances       Size\n",
            "      20/20      10.3G      1.762      2.339      2.099          8        640: 100% 375/375 [05:02<00:00,  1.24it/s]\n",
            "                 Class     Images  Instances      Box(P          R      mAP50  mAP50-95): 100% 125/125 [01:05<00:00,  1.90it/s]\n",
            "                   all       4000       2365      0.406       0.35      0.305      0.131\n",
            "\n",
            "20 epochs completed in 2.073 hours.\n",
            "Optimizer stripped from runs/train_COD10K_finetune/exp2/weights/last.pt, 51.6MB\n",
            "Optimizer stripped from runs/train_COD10K_finetune/exp2/weights/best.pt, 51.6MB\n",
            "\n",
            "Validating runs/train_COD10K_finetune/exp2/weights/best.pt...\n",
            "Ultralytics 8.3.119 🚀 Python-3.11.12 torch-2.6.0+cu124 CUDA:0 (Tesla T4, 15095MiB)\n",
            "YOLOv9c summary (fused): 156 layers, 25,320,019 parameters, 0 gradients, 102.3 GFLOPs\n",
            "                 Class     Images  Instances      Box(P          R      mAP50  mAP50-95): 100% 125/125 [01:06<00:00,  1.88it/s]\n",
            "                   all       4000       2365      0.406       0.35      0.305      0.131\n",
            "Speed: 0.2ms preprocess, 10.4ms inference, 0.0ms loss, 2.2ms postprocess per image\n",
            "Results saved to \u001b[1mruns/train_COD10K_finetune/exp2\u001b[0m\n"
          ]
        }
      ]
    },
    {
      "cell_type": "code",
      "source": [
        "runs/train_COD10K_finetune/exp2/weights/\n",
        " ├─ best.pt   ← highest mAP checkpoint\n",
        " └─ last.pt   ← final-epoch checkpoint"
      ],
      "metadata": {
        "id": "_75E6n0YJBLe"
      },
      "execution_count": null,
      "outputs": []
    },
    {
      "cell_type": "code",
      "source": [
        "switch these in config.yaml:\n",
        "task: validation\n",
        "resume: True\n",
        "weights: runs/train_COD10K_finetune/exp2/weights/best.pt"
      ],
      "metadata": {
        "colab": {
          "base_uri": "https://localhost:8080/",
          "height": 106
        },
        "id": "EyQhfYDllKjZ",
        "outputId": "e1ca799a-0165-488b-f939-9872a0ff1e4c"
      },
      "execution_count": null,
      "outputs": [
        {
          "output_type": "error",
          "ename": "SyntaxError",
          "evalue": "invalid syntax (<ipython-input-14-ea44cdf095ea>, line 1)",
          "traceback": [
            "\u001b[0;36m  File \u001b[0;32m\"<ipython-input-14-ea44cdf095ea>\"\u001b[0;36m, line \u001b[0;32m1\u001b[0m\n\u001b[0;31m    switch these in config.yaml:\u001b[0m\n\u001b[0m           ^\u001b[0m\n\u001b[0;31mSyntaxError\u001b[0m\u001b[0;31m:\u001b[0m invalid syntax\n"
          ]
        }
      ]
    },
    {
      "cell_type": "code",
      "source": [
        "cd PW_FT_detection\n",
        "python main.py --task validation --config config.yaml"
      ],
      "metadata": {
        "id": "ncoxEYjCJHHU"
      },
      "execution_count": null,
      "outputs": []
    },
    {
      "cell_type": "code",
      "source": [
        "switch these in config.yaml:\n",
        "task: inference\n",
        "test_data: data/COD10K/images/infer\n",
        "weights: runs/train_COD10K_finetune/exp2/weights/best.pt"
      ],
      "metadata": {
        "id": "h7Wt_K8VJN6e"
      },
      "execution_count": null,
      "outputs": []
    },
    {
      "cell_type": "code",
      "source": [
        "python main.py --task inference --config config.yaml"
      ],
      "metadata": {
        "id": "HLm9wuN3JQ-_"
      },
      "execution_count": null,
      "outputs": []
    }
  ]
}